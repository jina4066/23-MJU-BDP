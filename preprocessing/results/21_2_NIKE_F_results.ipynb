{
 "cells": [
  {
   "cell_type": "code",
   "execution_count": 1,
   "metadata": {},
   "outputs": [
    {
     "ename": "ModuleNotFoundError",
     "evalue": "No module named 'pandas'",
     "output_type": "error",
     "traceback": [
      "\u001b[1;31m---------------------------------------------------------------------------\u001b[0m",
      "\u001b[1;31mModuleNotFoundError\u001b[0m                       Traceback (most recent call last)",
      "\u001b[1;32mc:\\23-MJU-BDP\\crawling\\results\\21_2_NIKE_F_results.ipynb 셀 1\u001b[0m line \u001b[0;36m1\n\u001b[1;32m----> <a href='vscode-notebook-cell:/c%3A/23-MJU-BDP/crawling/results/21_2_NIKE_F_results.ipynb#W0sZmlsZQ%3D%3D?line=0'>1</a>\u001b[0m \u001b[39mimport\u001b[39;00m \u001b[39mpandas\u001b[39;00m \u001b[39mas\u001b[39;00m \u001b[39mpd\u001b[39;00m\n\u001b[0;32m      <a href='vscode-notebook-cell:/c%3A/23-MJU-BDP/crawling/results/21_2_NIKE_F_results.ipynb#W0sZmlsZQ%3D%3D?line=1'>2</a>\u001b[0m \u001b[39mimport\u001b[39;00m \u001b[39mre\u001b[39;00m\n\u001b[0;32m      <a href='vscode-notebook-cell:/c%3A/23-MJU-BDP/crawling/results/21_2_NIKE_F_results.ipynb#W0sZmlsZQ%3D%3D?line=3'>4</a>\u001b[0m \u001b[39mwith\u001b[39;00m \u001b[39mopen\u001b[39m(\u001b[39m'\u001b[39m\u001b[39m/content/drive/MyDrive/Colab Notebooks/BDP/21_2_NIKE_F.txt\u001b[39m\u001b[39m'\u001b[39m, \u001b[39m'\u001b[39m\u001b[39mr\u001b[39m\u001b[39m'\u001b[39m) \u001b[39mas\u001b[39;00m f:\n",
      "\u001b[1;31mModuleNotFoundError\u001b[0m: No module named 'pandas'"
     ]
    }
   ],
   "source": [
    "import pandas as pd\n",
    "import re\n",
    "\n",
    "with open('21_2_NIKE_F.txt', 'r') as f:\n",
    "    data = f.readlines()\n",
    "\n",
    "# 숫자가 포함된 데이터만 선택\n",
    "filtered_data = [line for line in data if re.search(r'\\d', line)]\n",
    "\n",
    "# '파운드' 혹은 '￡'가 포함된 라인 찾기\n",
    "pound_lines = [line for line in filtered_data if '파운드' in line or '￡' in line]\n",
    "\n",
    "# '달러', '$', '불'이 포함된 라인 찾기\n",
    "dollar_lines = [line for line in filtered_data if '달러' in line or '$' in line or '불' in line]\n",
    "\n",
    "# '유로', '€'가 포함된 라인 찾기\n",
    "euro_lines = [line for line in filtered_data if '유로' in line or '€' in line]\n",
    "\n",
    "# 출력\n",
    "print('파운드, ￡가 포함된 라인 수:', len(pound_lines))\n",
    "print('달러, $, 불이 포함된 라인 수:', len(dollar_lines))\n",
    "print('유로, €가 포함된 라인 수:', len(euro_lines))"
   ]
  },
  {
   "cell_type": "code",
   "execution_count": null,
   "metadata": {},
   "outputs": [],
   "source": [
    "filtered_data"
   ]
  },
  {
   "cell_type": "code",
   "execution_count": null,
   "metadata": {},
   "outputs": [],
   "source": [
    "# 숫자를 찾기 위한 정규 표현식 패턴\n",
    "pattern = re.compile(r'(\\d+\\.\\d+)')\n",
    "\n",
    "# 숫자와 '파운드', '￡', '달러', '$', '불' 혹은 '유로', '€'를 찾기 위한 정규 표현식 패턴\n",
    "pattern_front_pound = re.compile(r'(\\d+\\.\\d+)(파운드|￡)')\n",
    "pattern_back_pound = re.compile(r'(파운드|￡)(\\d+\\.\\d+)')\n",
    "pattern_front_dollar = re.compile(r'(\\d+\\.\\d+)(달러|\\$|불)')\n",
    "pattern_back_dollar = re.compile(r'(달러|\\$|불)(\\d+\\.\\d+)')\n",
    "pattern_front_euro = re.compile(r'(\\d+\\.\\d+)(유로|€)')\n",
    "pattern_back_euro = re.compile(r'(유로|€)(\\d+\\.\\d+)')\n",
    "\n",
    "# 숫자와 '원'을 찾기 위한 정규 표현식 패턴\n",
    "pattern_won = re.compile(r'(\\d+)원$')\n",
    "\n",
    "# 결과를 저장할 리스트\n",
    "results = []\n",
    "\n",
    "# 필터링된 라인에서 숫자를 찾아 1140.79로 곱하기\n",
    "for line in filtered_data:\n",
    "    match = pattern.search(line)\n",
    "    if match:\n",
    "        result = round(1140.79 * float(match.group(1)), 2)\n",
    "        results.append(result)\n",
    "\n",
    "# 파운드, 달러, 유로 처리\n",
    "for line in pound_lines:\n",
    "    match_front = pattern_front_pound.search(line)\n",
    "    match_back = pattern_back_pound.search(line)\n",
    "    if match_front:\n",
    "        result = round(1598.25 * float(match_front.group(1)), 2)\n",
    "        results.append(result)\n",
    "    elif match_back:\n",
    "        result = round(1598.25 * float(match_back.group(2)), 2)\n",
    "        results.append(result)\n",
    "\n",
    "for line in dollar_lines:\n",
    "    match_front = pattern_front_dollar.search(line)\n",
    "    match_back = pattern_back_dollar.search(line)\n",
    "    if match_front:\n",
    "        result = round(1140.79 * float(match_front.group(1)), 2)\n",
    "        results.append(result)\n",
    "    elif match_back:\n",
    "        result = round(1140.79 * float(match_back.group(2)), 2)\n",
    "        results.append(result)\n",
    "\n",
    "for line in euro_lines:\n",
    "    match_front = pattern_front_euro.search(line)\n",
    "    match_back = pattern_back_euro.search(line)\n",
    "    if match_front:\n",
    "        result = round(1377.46 * float(match_front.group(1)), 2)\n",
    "        results.append(result)\n",
    "    elif match_back:\n",
    "        result = round(1377.46 * float(match_back.group(2)), 2)\n",
    "        results.append(result)\n",
    "\n",
    "# 필터링된 라인에서 숫자와 '원'을 찾아 '원'을 떼고 결과에 추가\n",
    "for line in filtered_data:\n",
    "    match = pattern_won.search(line)\n",
    "    if match:\n",
    "        result = int(match.group(1))\n",
    "        results.append(result)\n",
    "\n",
    "\n",
    "# 결과 출력\n",
    "print(f'Filtered data line count: {len(filtered_data)}')\n",
    "print(f'Total result line count: {len(results)}')\n",
    "for result in results:\n",
    "    print(result)"
   ]
  },
  {
   "cell_type": "code",
   "execution_count": null,
   "metadata": {},
   "outputs": [],
   "source": [
    "# 결과를 txt 파일로 저장\n",
    "with open('/content/drive/MyDrive/Colab Notebooks/BDP/21_2_NIKE_F_results.txt', 'w') as f:\n",
    "    for result in results:\n",
    "        f.write(str(result) + '\\n')"
   ]
  }
 ],
 "metadata": {
  "kernelspec": {
   "display_name": "Python 3",
   "language": "python",
   "name": "python3"
  },
  "language_info": {
   "codemirror_mode": {
    "name": "ipython",
    "version": 3
   },
   "file_extension": ".py",
   "mimetype": "text/x-python",
   "name": "python",
   "nbconvert_exporter": "python",
   "pygments_lexer": "ipython3",
   "version": "3.11.5"
  }
 },
 "nbformat": 4,
 "nbformat_minor": 2
}
