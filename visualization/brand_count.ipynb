{
 "cells": [
  {
   "cell_type": "code",
   "execution_count": null,
   "metadata": {},
   "outputs": [],
   "source": [
    "# 나눔 폰트 설치\n",
    "\n",
    "!sudo apt-get install -y fonts-nanum\n",
    "!sudo fc-cache -fv\n",
    "!rm ~/.cache/matplotlib -rf"
   ]
  },
  {
   "cell_type": "code",
   "execution_count": null,
   "metadata": {},
   "outputs": [],
   "source": [
    "import matplotlib.pyplot as plt\n",
    "\n",
    "fig, axs = plt.subplots(1, 3, figsize=(15, 5))\n",
    "\n",
    "for i, quarter in enumerate(sorted(reducer_out.keys())):\n",
    "    words, counts = zip(*reducer_out[quarter][:10])  # 단어와 빈도를 분리\n",
    "\n",
    "    words = words[1:]\n",
    "    counts = counts[1:]\n",
    "    \n",
    "    axs[i].bar(words, counts, color='skyblue')  \n",
    "    axs[i].set_title(f'{quarter}분기')  \n",
    "    axs[i].set_xlabel('단어') \n",
    "    axs[i].set_ylabel('빈도') \n",
    "    axs[i].set_xticks(words)  #\n",
    "    axs[i].set_xticklabels(words, rotation=45) \n",
    "    axs[i].set_ylim(100, 300)  \n",
    "\n",
    "plt.tight_layout() \n",
    "plt.show() \n"
   ]
  },
  {
   "cell_type": "markdown",
   "metadata": {},
   "source": [
    "![image](https://github.com/keemsebin/23-MJU-BDP/assets/108182934/e6c2a834-ccd7-4d91-90a2-c536449223ae)\n"
   ]
  }
 ],
 "metadata": {
  "language_info": {
   "name": "python"
  }
 },
 "nbformat": 4,
 "nbformat_minor": 2
}
