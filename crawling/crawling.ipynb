{
 "cells": [
  {
   "cell_type": "code",
   "execution_count": 1,
   "id": "5dd3391c-0711-4626-adf1-6b53fbe5f1f7",
   "metadata": {},
   "outputs": [
    {
     "name": "stdout",
     "output_type": "stream",
     "text": [
      "제이에스티나 진주 하트 귀걸이 샀어요🤍•🤍 , 2023.12.05.\n",
      "아르켓 포 퍼 자켓 샀어요 세일 체고🥹🤍🤍🤍🤍 , 09:05\n",
      "고비 캐시미어 머플러 샀어요~~🧣🧣 , 2023.12.04.\n",
      "수영장 인싸템 고리형 실리콘 공병 샀어요🛀🛀 , 2023.12.03.\n",
      "H패션몰에서 아디다스 자켓 샀어요 🤎 , 2023.12.04.\n",
      "제이에스티나 귀걸이 따사했어용 , 22:08\n",
      "ㅅㄹㅁㅅㅈ 메종키츠네가디건 가니티 웰컴톰보드 샀어요~ , 21:58\n",
      "wㅋㅅ에서 팔로마울샀어요🤍 , 21:50\n",
      "하운드투스 처돌이😍 앤아더스토리즈 트위드 자켓 샀어요🖤 , 21:49\n",
      "(어샀) 메종키츠네 더블폭스 가디건🦊🦊 , 21:43\n",
      "랄프로렌 피마코튼 가디건 세일하길래 사봤어요 , 21:34\n",
      "론론 브이넥 니트 샀어요🩶 , 21:34\n",
      "론론 구매했어요 , 21:28\n",
      "망고 퍼이펙트 아플리케 코트 , 21:15\n",
      "론론 따샀했어요 , 21:13\n",
      "제이에스티나 마리엘진주하트귀걸이 따사했어요 , 21:10\n",
      "롱샴 백팩 네이비 , 20:58\n",
      "노스페이스 노벨티 눕시 코코아 브라운 샀어요! , 20:57\n",
      "무신사 구스다운푸퍼 숏패딩 , 20:56\n",
      "롯데면세점 구매목록 , 20:54\n"
     ]
    },
    {
     "ename": "NoSuchWindowException",
     "evalue": "Message: no such window: target window already closed\nfrom unknown error: web view not found\n  (Session info: chrome=120.0.6099.62)\nStacktrace:\n0   chromedriver                        0x0000000104b884f4 chromedriver + 4162804\n1   chromedriver                        0x0000000104b8067c chromedriver + 4130428\n2   chromedriver                        0x00000001047d7bc0 chromedriver + 293824\n3   chromedriver                        0x00000001047b06c0 chromedriver + 132800\n4   chromedriver                        0x000000010484925c chromedriver + 758364\n5   chromedriver                        0x000000010485d294 chromedriver + 840340\n6   chromedriver                        0x00000001048116bc chromedriver + 530108\n7   chromedriver                        0x0000000104812930 chromedriver + 534832\n8   chromedriver                        0x0000000104b4de20 chromedriver + 3923488\n9   chromedriver                        0x0000000104b523f4 chromedriver + 3941364\n10  chromedriver                        0x0000000104b36050 chromedriver + 3825744\n11  chromedriver                        0x0000000104b52f54 chromedriver + 3944276\n12  chromedriver                        0x0000000104b2870c chromedriver + 3770124\n13  chromedriver                        0x0000000104b6f998 chromedriver + 4061592\n14  chromedriver                        0x0000000104b6fb10 chromedriver + 4061968\n15  chromedriver                        0x0000000104b802fc chromedriver + 4129532\n16  libsystem_pthread.dylib             0x000000019100e06c _pthread_start + 148\n17  libsystem_pthread.dylib             0x0000000191008e2c thread_start + 8\n",
     "output_type": "error",
     "traceback": [
      "\u001b[0;31m---------------------------------------------------------------------------\u001b[0m",
      "\u001b[0;31mNoSuchWindowException\u001b[0m                     Traceback (most recent call last)",
      "\u001b[1;32m/Users/keemsebin/STUDY/23-MJU-BDP/crawling/crawling.ipynb Cell 1\u001b[0m line \u001b[0;36m3\n\u001b[1;32m     <a href='vscode-notebook-cell:/Users/keemsebin/STUDY/23-MJU-BDP/crawling/crawling.ipynb#W0sZmlsZQ%3D%3D?line=28'>29</a>\u001b[0m \u001b[39mfor\u001b[39;00m i \u001b[39min\u001b[39;00m \u001b[39mrange\u001b[39m( \u001b[39m1\u001b[39m, \u001b[39m1000\u001b[39m ):\n\u001b[1;32m     <a href='vscode-notebook-cell:/Users/keemsebin/STUDY/23-MJU-BDP/crawling/crawling.ipynb#W0sZmlsZQ%3D%3D?line=29'>30</a>\u001b[0m     url \u001b[39m=\u001b[39m move_page(i)\n\u001b[0;32m---> <a href='vscode-notebook-cell:/Users/keemsebin/STUDY/23-MJU-BDP/crawling/crawling.ipynb#W0sZmlsZQ%3D%3D?line=30'>31</a>\u001b[0m     driver\u001b[39m.\u001b[39;49mget(url)\n\u001b[1;32m     <a href='vscode-notebook-cell:/Users/keemsebin/STUDY/23-MJU-BDP/crawling/crawling.ipynb#W0sZmlsZQ%3D%3D?line=31'>32</a>\u001b[0m     driver\u001b[39m.\u001b[39mswitch_to\u001b[39m.\u001b[39mframe(\u001b[39m'\u001b[39m\u001b[39mcafe_main\u001b[39m\u001b[39m'\u001b[39m)\n\u001b[1;32m     <a href='vscode-notebook-cell:/Users/keemsebin/STUDY/23-MJU-BDP/crawling/crawling.ipynb#W0sZmlsZQ%3D%3D?line=32'>33</a>\u001b[0m     search_url \u001b[39m=\u001b[39m driver\u001b[39m.\u001b[39mpage_source\n",
      "File \u001b[0;32m/opt/homebrew/lib/python3.11/site-packages/selenium/webdriver/remote/webdriver.py:356\u001b[0m, in \u001b[0;36mWebDriver.get\u001b[0;34m(self, url)\u001b[0m\n\u001b[1;32m    354\u001b[0m \u001b[39mdef\u001b[39;00m \u001b[39mget\u001b[39m(\u001b[39mself\u001b[39m, url: \u001b[39mstr\u001b[39m) \u001b[39m-\u001b[39m\u001b[39m>\u001b[39m \u001b[39mNone\u001b[39;00m:\n\u001b[1;32m    355\u001b[0m \u001b[39m    \u001b[39m\u001b[39m\"\"\"Loads a web page in the current browser session.\"\"\"\u001b[39;00m\n\u001b[0;32m--> 356\u001b[0m     \u001b[39mself\u001b[39;49m\u001b[39m.\u001b[39;49mexecute(Command\u001b[39m.\u001b[39;49mGET, {\u001b[39m\"\u001b[39;49m\u001b[39murl\u001b[39;49m\u001b[39m\"\u001b[39;49m: url})\n",
      "File \u001b[0;32m/opt/homebrew/lib/python3.11/site-packages/selenium/webdriver/remote/webdriver.py:347\u001b[0m, in \u001b[0;36mWebDriver.execute\u001b[0;34m(self, driver_command, params)\u001b[0m\n\u001b[1;32m    345\u001b[0m response \u001b[39m=\u001b[39m \u001b[39mself\u001b[39m\u001b[39m.\u001b[39mcommand_executor\u001b[39m.\u001b[39mexecute(driver_command, params)\n\u001b[1;32m    346\u001b[0m \u001b[39mif\u001b[39;00m response:\n\u001b[0;32m--> 347\u001b[0m     \u001b[39mself\u001b[39;49m\u001b[39m.\u001b[39;49merror_handler\u001b[39m.\u001b[39;49mcheck_response(response)\n\u001b[1;32m    348\u001b[0m     response[\u001b[39m\"\u001b[39m\u001b[39mvalue\u001b[39m\u001b[39m\"\u001b[39m] \u001b[39m=\u001b[39m \u001b[39mself\u001b[39m\u001b[39m.\u001b[39m_unwrap_value(response\u001b[39m.\u001b[39mget(\u001b[39m\"\u001b[39m\u001b[39mvalue\u001b[39m\u001b[39m\"\u001b[39m, \u001b[39mNone\u001b[39;00m))\n\u001b[1;32m    349\u001b[0m     \u001b[39mreturn\u001b[39;00m response\n",
      "File \u001b[0;32m/opt/homebrew/lib/python3.11/site-packages/selenium/webdriver/remote/errorhandler.py:229\u001b[0m, in \u001b[0;36mErrorHandler.check_response\u001b[0;34m(self, response)\u001b[0m\n\u001b[1;32m    227\u001b[0m         alert_text \u001b[39m=\u001b[39m value[\u001b[39m\"\u001b[39m\u001b[39malert\u001b[39m\u001b[39m\"\u001b[39m]\u001b[39m.\u001b[39mget(\u001b[39m\"\u001b[39m\u001b[39mtext\u001b[39m\u001b[39m\"\u001b[39m)\n\u001b[1;32m    228\u001b[0m     \u001b[39mraise\u001b[39;00m exception_class(message, screen, stacktrace, alert_text)  \u001b[39m# type: ignore[call-arg]  # mypy is not smart enough here\u001b[39;00m\n\u001b[0;32m--> 229\u001b[0m \u001b[39mraise\u001b[39;00m exception_class(message, screen, stacktrace)\n",
      "\u001b[0;31mNoSuchWindowException\u001b[0m: Message: no such window: target window already closed\nfrom unknown error: web view not found\n  (Session info: chrome=120.0.6099.62)\nStacktrace:\n0   chromedriver                        0x0000000104b884f4 chromedriver + 4162804\n1   chromedriver                        0x0000000104b8067c chromedriver + 4130428\n2   chromedriver                        0x00000001047d7bc0 chromedriver + 293824\n3   chromedriver                        0x00000001047b06c0 chromedriver + 132800\n4   chromedriver                        0x000000010484925c chromedriver + 758364\n5   chromedriver                        0x000000010485d294 chromedriver + 840340\n6   chromedriver                        0x00000001048116bc chromedriver + 530108\n7   chromedriver                        0x0000000104812930 chromedriver + 534832\n8   chromedriver                        0x0000000104b4de20 chromedriver + 3923488\n9   chromedriver                        0x0000000104b523f4 chromedriver + 3941364\n10  chromedriver                        0x0000000104b36050 chromedriver + 3825744\n11  chromedriver                        0x0000000104b52f54 chromedriver + 3944276\n12  chromedriver                        0x0000000104b2870c chromedriver + 3770124\n13  chromedriver                        0x0000000104b6f998 chromedriver + 4061592\n14  chromedriver                        0x0000000104b6fb10 chromedriver + 4061968\n15  chromedriver                        0x0000000104b802fc chromedriver + 4129532\n16  libsystem_pthread.dylib             0x000000019100e06c _pthread_start + 148\n17  libsystem_pthread.dylib             0x0000000191008e2c thread_start + 8\n"
     ]
    }
   ],
   "source": [
    "import os\n",
    "from selenium import webdriver\n",
    "from bs4 import BeautifulSoup\n",
    "from selenium.webdriver.chrome.service import Service\n",
    "from webdriver_manager.chrome import ChromeDriverManager\n",
    "from selenium.webdriver.chrome.options import Options\n",
    "from selenium.webdriver.common.by import By\n",
    "import time \n",
    "import pyperclip\n",
    "import pyautogui\n",
    "import random\n",
    "\n",
    "\n",
    "user_agent = \"user-agent header\"\n",
    "options = Options()\n",
    "options.add_argument('user-agent=' + user_agent)\n",
    "options.add_argument('--mute-audio')\n",
    "options.add_experimental_option(\"detach\", True)\n",
    "options.add_experimental_option(\"excludeSwitches\", [\"enable-logging\"])\n",
    "driver = webdriver.Chrome(service=Service(ChromeDriverManager().install()), options=options)\n",
    "driver.implicitly_wait(5)\n",
    "\n",
    "def move_page(page):\n",
    "    key_url = 'https://cafe.naver.com/ArticleList.nhn?search.clubid=15424483&search.menuid=692&search.boardtype=L&search.page={}'.format(page)\n",
    "    return key_url\n",
    "\n",
    "data = [] \n",
    "\n",
    "for i in range( 1, 1000 ):\n",
    "    url = move_page(i)\n",
    "    driver.get(url)\n",
    "    driver.switch_to.frame('cafe_main')\n",
    "    search_url = driver.page_source\n",
    "    soup = BeautifulSoup(search_url, 'html.parser')\n",
    "    articles = soup.select('tr')\n",
    "    \n",
    "    for article in articles:\n",
    "        if article.get('class', []) is not None and '_noticeArticle' in article.get('class', []):  # 공지사항은 크롤링에서 제외\n",
    "            continue \n",
    "        subject = article.find('a', class_='article')  # 제목 선택\n",
    "        date = article.find('td', class_='td_date')  # 날짜 선택\n",
    "\n",
    "        if subject is None or date is None:\n",
    "            continue\n",
    "\n",
    "        if '해외핫딜 매장 왔어요 인기상품 국내패션핫딜 브랜드 후기 발표 국내패션핫딜 직구팁' not in subject.text:   \n",
    "        # '해외핫딜'이 포함되지 않은 글만 선택\n",
    "            span = subject.find('span')\n",
    "            if span is not None:  # <span> 태그가 있는 경우\n",
    "                title = subject.text.replace(span.text, '').strip()  # <span> 태그의 텍스트를 제거\n",
    "            else:  # <span> 태그가 없는 경우\n",
    "                title = subject.text.strip()\n",
    "        print(title,',', date.text.strip())\n",
    "        data.append(title + ' , ' + date.text.strip())\n",
    "    time.sleep(random.uniform(2,4))\n",
    "\n",
    "c = os.path.exists('crawling.txt')    \n",
    "if c:\n",
    "    os.remove('crawling.txt')\n",
    "        \n",
    "with open('crawling.txt', 'w', encoding='utf-8') as f:\n",
    "    for line in data:\n",
    "        for l in line:\n",
    "            f.write(l)\n",
    "        f.write('\\n')\n"
   ]
  },
  {
   "cell_type": "code",
   "execution_count": null,
   "id": "61b1274a-43da-405a-8c77-08ffc921e069",
   "metadata": {},
   "outputs": [],
   "source": []
  }
 ],
 "metadata": {
  "kernelspec": {
   "display_name": "Python 3 (ipykernel)",
   "language": "python",
   "name": "python3"
  },
  "language_info": {
   "codemirror_mode": {
    "name": "ipython",
    "version": 3
   },
   "file_extension": ".py",
   "mimetype": "text/x-python",
   "name": "python",
   "nbconvert_exporter": "python",
   "pygments_lexer": "ipython3",
   "version": "3.11.5"
  }
 },
 "nbformat": 4,
 "nbformat_minor": 5
}
